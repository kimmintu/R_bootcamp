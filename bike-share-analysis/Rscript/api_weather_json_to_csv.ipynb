{
 "cells": [
  {
   "cell_type": "markdown",
   "metadata": {},
   "source": [
    "# JSON to CSV parser for weather data from online API\n",
    "After finish running this notebook, a CSV file with hourly weather data for New Yor City in 2016 is created \"new_year_city_hourly_weather_2016.csv\""
   ]
  },
  {
   "cell_type": "code",
   "execution_count": null,
   "metadata": {},
   "outputs": [],
   "source": [
    "import pandas as pd\n",
    "import pytz\n",
    "import time\n",
    "from datetime import datetime\n",
    "import urllib\n",
    "import json\n",
    "\n",
    "# get row for data frame\n",
    "\n",
    "\n",
    "def getDataRow(json):\n",
    "    nytimestamp = json.get('valid_time_gmt')\n",
    "    nydatetime = datetime.fromtimestamp(\n",
    "        nytimestamp, pytz.timezone('US/Eastern'))\n",
    "    # print(datetime.strftime(\"%M\"))\n",
    "    if (nydatetime.strftime(\"%M\") != '51'):\n",
    "        return None\n",
    "    time = json.get('valid_time_gmt')\n",
    "    temp = json.get('temp')\n",
    "    dewp = json.get('dewPt')\n",
    "    humid = json.get('rh')\n",
    "    wind = json.get('wspd')\n",
    "    cond = json.get('wx_phrase')\n",
    "    data = {'date': nydatetime.strftime(\"%Y-%m-%d\"), 'time': nydatetime.strftime(\"%H:%M\"), 'temperature': temp,\n",
    "            'dewpoint': dewp, 'humidity': humid, 'windspeed': wind, 'condition': cond}\n",
    "    return data\n",
    "\n",
    "\n",
    "url_template = \"https://api.weather.com/v1/location/KLGA:9:US/observations/historical.json?apiKey=6532d6454b8aa370768e63d6ba5a832e&units=e&startDate={0}&endDate={0}\"\n",
    "\n",
    "report = pd.DataFrame(columns=['date', 'amount'])\n",
    "year_df = pd.DataFrame(columns=[\n",
    "                       'date', 'time', 'temperature', 'dewpoint', 'humidity', 'windspeed', 'condition'])\n",
    "\n",
    "for month in range(1, 13):\n",
    "    endmonthday = 31\n",
    "    if (month == 2):\n",
    "        endmonthday = 30\n",
    "    elif (month in [1, 3, 5, 7, 8, 10, 12]):\n",
    "        endmonthday = 32\n",
    "\n",
    "    for day in range(1, endmonthday):\n",
    "        date = \"2016{0:02d}{1:02d}\".format(month, day)\n",
    "        url = url_template.format(date)\n",
    "        time.sleep(1)\n",
    "        response = urllib.request.urlopen(url)\n",
    "        data = json.loads(response.read())\n",
    "        print(date + ': ' + str(len(data[\"observations\"])))\n",
    "        for i in data[\"observations\"]:\n",
    "            data = getDataRow(i)\n",
    "            if (data != None):\n",
    "                year_df = year_df.append(data, ignore_index=True)\n",
    "\n",
    "year_df = year_df.sort_values(by=['date', 'TimeEST'])\n",
    "year_df.to_csv('new_year_city_hourly_weather_2016.csv', index=False)\n",
    "\n",
    "print(len(year_df))\n",
    "print(\"-------- Finish --------\")"
   ]
  }
 ],
 "metadata": {
  "kernelspec": {
   "display_name": "Python 3",
   "language": "python",
   "name": "python3"
  },
  "language_info": {
   "codemirror_mode": {
    "name": "ipython",
    "version": 3
   },
   "file_extension": ".py",
   "mimetype": "text/x-python",
   "name": "python",
   "nbconvert_exporter": "python",
   "pygments_lexer": "ipython3",
   "version": "3.7.6"
  },
  "toc": {
   "base_numbering": 1,
   "nav_menu": {},
   "number_sections": true,
   "sideBar": true,
   "skip_h1_title": false,
   "title_cell": "Table of Contents",
   "title_sidebar": "Contents",
   "toc_cell": false,
   "toc_position": {},
   "toc_section_display": true,
   "toc_window_display": false
  },
  "varInspector": {
   "cols": {
    "lenName": 16,
    "lenType": 16,
    "lenVar": 40
   },
   "kernels_config": {
    "python": {
     "delete_cmd_postfix": "",
     "delete_cmd_prefix": "del ",
     "library": "var_list.py",
     "varRefreshCmd": "print(var_dic_list())"
    },
    "r": {
     "delete_cmd_postfix": ") ",
     "delete_cmd_prefix": "rm(",
     "library": "var_list.r",
     "varRefreshCmd": "cat(var_dic_list()) "
    }
   },
   "types_to_exclude": [
    "module",
    "function",
    "builtin_function_or_method",
    "instance",
    "_Feature"
   ],
   "window_display": false
  }
 },
 "nbformat": 4,
 "nbformat_minor": 4
}
